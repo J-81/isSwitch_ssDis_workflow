{
 "cells": [
  {
   "cell_type": "markdown",
   "metadata": {},
   "source": [
    "## Purpose:\n",
    "- This notebook will track the semi-manually logged failures at each step\n",
    "- Advice: Parsing the snakemake output is useful to prevent \"by-hand\" logging which can be error-prone\n",
    "- This notebook *should* be safe to rerun cells"
   ]
  },
  {
   "cell_type": "markdown",
   "metadata": {},
   "source": [
    "## General Save/Load of dropped log"
   ]
  },
  {
   "cell_type": "code",
   "execution_count": 64,
   "metadata": {},
   "outputs": [],
   "source": [
    "import json\n",
    "\n",
    "def dropped(new_fails, log_path=\"../logs/dropped.json\"):\n",
    "    \"\"\" tracked dropped clusterIDs and rationale to a single log file \n",
    "    Manually curated by pipeline runner\n",
    "    Downstream steps will drop these clusterIDs from analysis\n",
    "    \n",
    "    \"\"\"\n",
    "    with open(log_path, \"w+\") as f:\n",
    "        try:\n",
    "            current_fails = json.load(f)\n",
    "            print(f\"Adding to failed log {log_path}\")\n",
    "        except json.JSONDecodeError:\n",
    "            print(\"Failure log not yet initated... initiating now\")\n",
    "            current_fails = dict()\n",
    "        print(current_fails)\n",
    "        current_fails.update(new_fails)\n",
    "        print(current_fails)\n",
    "        json.dump(current_fails, f)"
   ]
  },
  {
   "cell_type": "markdown",
   "metadata": {},
   "source": [
    "## Clustalo Failures have been logged here"
   ]
  },
  {
   "cell_type": "code",
   "execution_count": 65,
   "metadata": {},
   "outputs": [
    {
     "name": "stdout",
     "output_type": "stream",
     "text": [
      "Failure log not yet initated... initiating now\n",
      "{}\n",
      "{'Clustalo-fails': ['1qzv_B', '1jnv_Y', '1fe1_F', '1ivi_A', '1fka_N', '1d8s_A', '1qtj_A', '1d8s_D', '1nik_G', '1tnv_C', '1c51_D', '1fe1_I', '1fe1_B', '1izl_X', '1fe1_D', '1c51_L', '1qzv_C', '1izl_G', '1fe1_G', '1fka_Q', '1hr3_A', '1c51_K', '1c51_F', '1qzv_H', '1qzv_K', '1qzv_G', '1qzv_D', '1fe1_H', '1fka_B', '1qzv_4', '1qzv_J', '1fka_K', '1fe1_C', '1fft_D', '1fka_L', '1pyh_A', '1fka_P', '1eg0_H', '1fe1_A', '1qzv_E', '1c51_E', '1kga_A', '1fe1_E', '1bcc_I', '1fka_J', '1ffx_E', '1izl_U', '1fka_T', '1c51_C']}\n"
     ]
    }
   ],
   "source": [
    "from collections import defaultdict\n",
    "\n",
    "# Certain clusters necessarily failed clustalo\n",
    "clustalo_fails_log = \"../.snakemake/log/2020-07-21T113519.799452.snakemake.log\" \n",
    "\n",
    "\n",
    "reason = \"Clustalo-fails\"\n",
    "failed_clusterIDs = defaultdict(list)\n",
    "with open(clustalo_fails_log, \"r\") as f:\n",
    "    for line in f.readlines():\n",
    "        if \"clusterID\" in line:\n",
    "            clusterID = line.split()[-1].split(\"=\")[1]\n",
    "            failed_clusterIDs[reason].append(clusterID)\n",
    "            \n",
    "# now to log failed\n",
    "dropped(new_fails=failed_clusterIDs)"
   ]
  },
  {
   "cell_type": "code",
   "execution_count": 66,
   "metadata": {},
   "outputs": [],
   "source": [
    "a = list(\"abc\")\n",
    "b = [1,2,3]\n",
    "c = list(zip(a,b))"
   ]
  },
  {
   "cell_type": "code",
   "execution_count": 67,
   "metadata": {},
   "outputs": [
    {
     "data": {
      "text/plain": [
       "[('a', 1), ('b', 2), ('c', 3)]"
      ]
     },
     "execution_count": 67,
     "metadata": {},
     "output_type": "execute_result"
    }
   ],
   "source": [
    "c"
   ]
  },
  {
   "cell_type": "code",
   "execution_count": null,
   "metadata": {},
   "outputs": [],
   "source": []
  }
 ],
 "metadata": {
  "kernelspec": {
   "display_name": "Python 3",
   "language": "python",
   "name": "python3"
  },
  "language_info": {
   "codemirror_mode": {
    "name": "ipython",
    "version": 3
   },
   "file_extension": ".py",
   "mimetype": "text/x-python",
   "name": "python",
   "nbconvert_exporter": "python",
   "pygments_lexer": "ipython3",
   "version": "3.7.4"
  }
 },
 "nbformat": 4,
 "nbformat_minor": 4
}
