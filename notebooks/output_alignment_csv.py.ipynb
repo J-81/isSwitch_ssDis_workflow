{
 "cells": [
  {
   "cell_type": "code",
   "execution_count": 2,
   "metadata": {},
   "outputs": [],
   "source": [
    "# start coding here\n",
    "i_msa = snakemake.input\n",
    "o_csv = snakemake.output.ssdis_csv"
   ]
  },
  {
   "cell_type": "code",
   "execution_count": 3,
   "metadata": {},
   "outputs": [],
   "source": [
    "import csv\n",
    "\n",
    "from Bio import SeqIO\n",
    "\n",
    "def convert_msa_to_csv(msa, _csv):\n",
    "    with open(msa, \"r\") as f:\n",
    "        seqs = [seq for seq in SeqIO.parse(msa, format=\"fasta\")]\n",
    "    \n",
    "    # iterate through first seq (all will be same length) and populate a by position dictionary\n",
    "    seq_ids = \",\".join([seq.id for seq in seqs])\n",
    "    #print(seq_ids)\n",
    "    by_position = [''.join(position) for position in zip(*[seq.seq for seq in seqs])]\n",
    "    #print(by_position)\n",
    "    with open(_csv, \"w\") as f:\n",
    "        \n",
    "        # write sequence ids as header\n",
    "        f.write(seq_ids+\"\\n\")\n",
    "        \n",
    "        # write characters\n",
    "        csv_writer = csv.writer(f)\n",
    "        csv_writer.writerows(by_position) "
   ]
  },
  {
   "cell_type": "code",
   "execution_count": 4,
   "metadata": {},
   "outputs": [],
   "source": [
    "for i, msa in enumerate(i_msa):\n",
    "    print(f\"Running {i+1} of {len(i_msa)}{' '*8}\", end=\"\\r\")\n",
    "    _csv = o_csv[i]\n",
    "    convert_msa_to_csv(msa=msa, _csv=_csv)"
   ]
  },
  {
   "cell_type": "code",
   "execution_count": null,
   "metadata": {},
   "outputs": [],
   "source": []
  }
 ],
 "metadata": {
  "kernelspec": {
   "display_name": "Python 3",
   "language": "python",
   "name": "python3"
  },
  "language_info": {
   "codemirror_mode": {
    "name": "ipython",
    "version": 3
   },
   "file_extension": ".py",
   "mimetype": "text/x-python",
   "name": "python",
   "nbconvert_exporter": "python",
   "pygments_lexer": "ipython3",
   "version": "3.6.10"
  }
 },
 "nbformat": 4,
 "nbformat_minor": 4
}
