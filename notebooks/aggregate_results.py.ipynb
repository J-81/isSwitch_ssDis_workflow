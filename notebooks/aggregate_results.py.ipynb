{
 "cells": [
  {
   "cell_type": "code",
   "execution_count": 2,
   "metadata": {},
   "outputs": [],
   "source": [
    "# start coding here\n",
    "i_ids = snakemake.input.bondugula_ids\n",
    "o_csv = snakemake.output.dataset\n",
    "o_missing = snakemake.output.missing"
   ]
  },
  {
   "cell_type": "code",
   "execution_count": 18,
   "metadata": {},
   "outputs": [],
   "source": [
    "import os\n",
    "\n",
    "import pandas as pd\n",
    "\n",
    "\n",
    "def _get_csv_path(_id):\n",
    "    fpath = f\"data/isSwitch.dataset/{_id[0:2]}/{_id}.csv\"\n",
    "    if os.path.isfile(fpath):\n",
    "        return fpath\n",
    "    else:\n",
    "        return False\n",
    "\n",
    "with open(i_ids, \"r\") as f:\n",
    "    _ids = list(set([f\"{line[1:5]}_{line[5].upper()}\" for line in f.readlines()]))\n",
    "\n",
    "# initate first dataframe\n",
    "full_df = None\n",
    "missing_count = 0\n",
    "\n",
    "for i, _id in enumerate(_ids[1:]):\n",
    "    print(f\"Running {i+1} of {len(_ids)}. Missing {missing_count} {' '*8}\", end=\"\\r\")\n",
    "    csv_path = _get_csv_path(_id)\n",
    "    if csv_path:\n",
    "        if isinstance(full_df, pd.DataFrame):\n",
    "            new_df = pd.read_csv(csv_path, index_col=0)\n",
    "            new_df[\"protein\"] = _id\n",
    "            full_df = pd.concat([full_df, new_df])\n",
    "            \n",
    "        else:\n",
    "            full_df = pd.read_csv(csv_path, index_col=0)\n",
    "            full_df[\"protein\"] = _id\n",
    "    else:\n",
    "        missing_count += 1\n",
    "        with open(o_missing, \"w+\") as f:\n",
    "            f.write(f\"{_id}\\n\")\n",
    "\n"
   ]
  },
  {
   "cell_type": "code",
   "execution_count": 21,
   "metadata": {},
   "outputs": [],
   "source": [
    "# save to file\n",
    "full_df.to_csv(o_csv)"
   ]
  },
  {
   "cell_type": "code",
   "execution_count": null,
   "metadata": {},
   "outputs": [],
   "source": []
  }
 ],
 "metadata": {
  "kernelspec": {
   "display_name": "Python 3",
   "language": "python",
   "name": "python3"
  },
  "language_info": {
   "codemirror_mode": {
    "name": "ipython",
    "version": 3
   },
   "file_extension": ".py",
   "mimetype": "text/x-python",
   "name": "python",
   "nbconvert_exporter": "python",
   "pygments_lexer": "ipython3",
   "version": "3.6.10"
  }
 },
 "nbformat": 4,
 "nbformat_minor": 4
}
