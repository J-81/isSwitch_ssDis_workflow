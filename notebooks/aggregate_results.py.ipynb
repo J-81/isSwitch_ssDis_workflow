{
 "cells": [
  {
   "cell_type": "code",
   "execution_count": 2,
   "metadata": {},
   "outputs": [],
   "source": [
    "# start coding here\n",
    "i_csv_list = snakemake.input.dataset_csv\n",
    "o_csv = snakemake.output.dataset"
   ]
  },
  {
   "cell_type": "code",
   "execution_count": 3,
   "metadata": {},
   "outputs": [],
   "source": [
    "import os\n",
    "\n",
    "import pandas as pd\n",
    "\n",
    "\n",
    "def main(filesToConcat, outputPath):\n",
    "    # initate first dataframe\n",
    "    full_df = None\n",
    "\n",
    "    for i, _file in enumerate(filesToConcat):\n",
    "        _id = os.path.basename(_file).split(\".\")[0]\n",
    "        print(f\"Running {i+1} of {len(filesToConcat)}. {' '*8}\", end=\"\\r\")\n",
    "        if isinstance(full_df, pd.DataFrame): # first dataframe\n",
    "            new_df = pd.read_csv(_file, index_col=0)\n",
    "            new_df[\"protein\"] = _id\n",
    "            full_df = pd.concat([full_df, new_df])\n",
    "\n",
    "        else:\n",
    "            full_df = pd.read_csv(_file, index_col=0)\n",
    "            full_df[\"protein\"] = _id\n",
    "    \n",
    "    # write to file\n",
    "    full_df.to_csv(o_csv)\n",
    "\n"
   ]
  },
  {
   "cell_type": "code",
   "execution_count": 4,
   "metadata": {},
   "outputs": [],
   "source": [
    "%%timeit -n 1 -r 1\n",
    "main(filesToConcat=i_csv_list, \n",
    "     outputPath=o_csv)"
   ]
  },
  {
   "cell_type": "code",
   "execution_count": null,
   "metadata": {},
   "outputs": [],
   "source": []
  }
 ],
 "metadata": {
  "kernelspec": {
   "display_name": "Python 3",
   "language": "python",
   "name": "python3"
  },
  "language_info": {
   "codemirror_mode": {
    "name": "ipython",
    "version": 3
   },
   "file_extension": ".py",
   "mimetype": "text/x-python",
   "name": "python",
   "nbconvert_exporter": "python",
   "pygments_lexer": "ipython3",
   "version": "3.6.10"
  }
 },
 "nbformat": 4,
 "nbformat_minor": 4
}
