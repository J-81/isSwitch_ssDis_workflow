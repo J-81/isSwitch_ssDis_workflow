{
 "cells": [
  {
   "cell_type": "code",
   "execution_count": 32,
   "metadata": {},
   "outputs": [],
   "source": [
    "# start coding here\n",
    "mmseqs2File = snakemake.input.mmseqsPdbIDs\n",
    "scopFile = snakemake.input.scopPdbIDs[0]\n",
    "\n",
    "outFile = snakemake.output[0]"
   ]
  },
  {
   "cell_type": "code",
   "execution_count": 50,
   "metadata": {},
   "outputs": [],
   "source": [
    "from collections import defaultdict\n",
    "import json\n",
    "\n",
    "def _convert_mmseqs2_to_dict(mmseqs2File):\n",
    "    mmseqs2Clusters = defaultdict(list)\n",
    "    with open(mmseqs2File, \"r\") as f:\n",
    "        for line in f.readlines():\n",
    "            clusterID, clusterMember = line.split()\n",
    "            mmseqs2Clusters[clusterID].append(clusterMember)\n",
    "    return mmseqs2Clusters\n",
    "\n",
    "def _read_scopFile(scopFile):\n",
    "    with open(scopFile, \"r\") as f:\n",
    "        return json.load(f)\n",
    "\n",
    "def main(mmseqs2File, scopFile):\n",
    "    mmseqs2Clusters = _convert_mmseqs2_to_dict(mmseqs2File)\n",
    "    \n",
    "    scopPdbIDs = _read_scopFile(scopFile)\n",
    "    \n",
    "    scopClusters = list() # track clusterIDs that include scopIDs\n",
    "    for i, (clusterID, clusterMembers) in enumerate(mmseqs2Clusters.items()):\n",
    "        print(f\"Checking Cluster {i+1} of {len(mmseqs2Clusters)} for scop members\", end=\"\\r\")\n",
    "        # check if there is a shared member between each list\n",
    "        if not set(clusterMembers).isdisjoint(scopPdbIDs):\n",
    "            scopClusters.append(clusterID)\n",
    "    \n",
    "    return scopClusters"
   ]
  },
  {
   "cell_type": "code",
   "execution_count": 55,
   "metadata": {},
   "outputs": [],
   "source": [
    "%%timeit -r 1 -n 1\n",
    "import json\n",
    "\n",
    "scopClusters = main(mmseqs2File, scopFile)\n",
    "\n",
    "with open(outFile, \"w\") as f:\n",
    "    json.dump(scopClusters, f)"
   ]
  },
  {
   "cell_type": "code",
   "execution_count": null,
   "metadata": {},
   "outputs": [],
   "source": []
  }
 ],
 "metadata": {
  "kernelspec": {
   "display_name": "Python 3",
   "language": "python",
   "name": "python3"
  },
  "language_info": {
   "codemirror_mode": {
    "name": "ipython",
    "version": 3
   },
   "file_extension": ".py",
   "mimetype": "text/x-python",
   "name": "python",
   "nbconvert_exporter": "python",
   "pygments_lexer": "ipython3",
   "version": "3.6.10"
  }
 },
 "nbformat": 4,
 "nbformat_minor": 4
}
