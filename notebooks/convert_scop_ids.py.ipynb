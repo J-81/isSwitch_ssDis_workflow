{
 "cells": [
  {
   "cell_type": "code",
   "execution_count": null,
   "metadata": {
    "tags": [
     "snakemake-job-properties"
    ]
   },
   "outputs": [],
   "source": [
    "\n",
    "######## snakemake preamble start (automatically inserted, do not edit) ########\n",
    "import sys; sys.path.extend(['/home/joribello/anaconda3/envs/snakemake/lib/python3.6/site-packages', '/home/joribello/Documents/OneDrive/Research/Spring_2020_Research/isSwitch_workflow/notebooks']); import pickle; snakemake = pickle.loads(b'\\x80\\x03csnakemake.script\\nSnakemake\\nq\\x00)\\x81q\\x01}q\\x02(X\\x05\\x00\\x00\\x00inputq\\x03csnakemake.io\\nInputFiles\\nq\\x04)\\x81q\\x05X-\\x00\\x00\\x00data/external/scop.full/dir.des.scop.1.75.txtq\\x06a}q\\x07(X\\x06\\x00\\x00\\x00_namesq\\x08}q\\tX\\x12\\x00\\x00\\x00_allowed_overridesq\\n]q\\x0b(X\\x05\\x00\\x00\\x00indexq\\x0cX\\x04\\x00\\x00\\x00sortq\\reh\\x0ccfunctools\\npartial\\nq\\x0ecbuiltins\\ngetattr\\nq\\x0fcsnakemake.io\\nNamedlist\\nq\\x10X\\x0f\\x00\\x00\\x00_used_attributeq\\x11\\x86q\\x12Rq\\x13\\x85q\\x14Rq\\x15(h\\x13)}q\\x16X\\x05\\x00\\x00\\x00_nameq\\x17h\\x0csNtq\\x18bh\\rh\\x0eh\\x13\\x85q\\x19Rq\\x1a(h\\x13)}q\\x1bh\\x17h\\rsNtq\\x1cbubX\\x06\\x00\\x00\\x00outputq\\x1dcsnakemake.io\\nOutputFiles\\nq\\x1e)\\x81q\\x1fX%\\x00\\x00\\x00data/external/scop.full/scop_1.75.txtq a}q!(h\\x08}q\"h\\n]q#(h\\x0ch\\reh\\x0ch\\x0eh\\x13\\x85q$Rq%(h\\x13)}q&h\\x17h\\x0csNtq\\'bh\\rh\\x0eh\\x13\\x85q(Rq)(h\\x13)}q*h\\x17h\\rsNtq+bubX\\x06\\x00\\x00\\x00paramsq,csnakemake.io\\nParams\\nq-)\\x81q.}q/(h\\x08}q0h\\n]q1(h\\x0ch\\reh\\x0ch\\x0eh\\x13\\x85q2Rq3(h\\x13)}q4h\\x17h\\x0csNtq5bh\\rh\\x0eh\\x13\\x85q6Rq7(h\\x13)}q8h\\x17h\\rsNtq9bubX\\t\\x00\\x00\\x00wildcardsq:csnakemake.io\\nWildcards\\nq;)\\x81q<}q=(h\\x08}q>h\\n]q?(h\\x0ch\\reh\\x0ch\\x0eh\\x13\\x85q@RqA(h\\x13)}qBh\\x17h\\x0csNtqCbh\\rh\\x0eh\\x13\\x85qDRqE(h\\x13)}qFh\\x17h\\rsNtqGbubX\\x07\\x00\\x00\\x00threadsqHK\\x01X\\t\\x00\\x00\\x00resourcesqIcsnakemake.io\\nResources\\nqJ)\\x81qK(K\\x01K\\x01e}qL(h\\x08}qM(X\\x06\\x00\\x00\\x00_coresqNK\\x00N\\x86qOX\\x06\\x00\\x00\\x00_nodesqPK\\x01N\\x86qQuh\\n]qR(h\\x0ch\\reh\\x0ch\\x0eh\\x13\\x85qSRqT(h\\x13)}qUh\\x17h\\x0csNtqVbh\\rh\\x0eh\\x13\\x85qWRqX(h\\x13)}qYh\\x17h\\rsNtqZbhNK\\x01hPK\\x01ubX\\x03\\x00\\x00\\x00logq[csnakemake.io\\nLog\\nq\\\\)\\x81q]}q^(h\\x08}q_h\\n]q`(h\\x0ch\\reh\\x0ch\\x0eh\\x13\\x85qaRqb(h\\x13)}qch\\x17h\\x0csNtqdbh\\rh\\x0eh\\x13\\x85qeRqf(h\\x13)}qgh\\x17h\\rsNtqhbubX\\x06\\x00\\x00\\x00configqi}qj(X\\x11\\x00\\x00\\x00Bondugula_versionqkK\\x00X\\x0c\\x00\\x00\\x00scop_versionqlG?\\xfc\\x00\\x00\\x00\\x00\\x00\\x00X\\x14\\x00\\x00\\x00scop_identity_cutoffqmK\\x19X\\n\\x00\\x00\\x00min_seq_idqnG?\\xef\\\\(\\xf5\\xc2\\x8f\\\\uX\\x04\\x00\\x00\\x00ruleqoX\\x10\\x00\\x00\\x00convert_scop_idsqpX\\x0f\\x00\\x00\\x00bench_iterationqqNX\\t\\x00\\x00\\x00scriptdirqrX\\\\\\x00\\x00\\x00/home/joribello/Documents/OneDrive/Research/Spring_2020_Research/isSwitch_workflow/notebooksqsub.'); from snakemake.logging import logger; logger.printshellcmds = True; import os; os.chdir('/home/joribello/Documents/OneDrive/Research/Spring_2020_Research/isSwitch_workflow');\n",
    "######## snakemake preamble end #########\n"
   ]
  },
  {
   "cell_type": "code",
   "execution_count": null,
   "metadata": {},
   "outputs": [],
   "source": [
    "# start coding here"
   ]
  }
 ],
 "metadata": {},
 "nbformat": 4,
 "nbformat_minor": 4
}