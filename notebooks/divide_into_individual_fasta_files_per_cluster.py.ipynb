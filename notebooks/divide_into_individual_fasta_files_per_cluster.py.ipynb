{
 "cells": [
  {
   "cell_type": "code",
   "execution_count": 78,
   "metadata": {},
   "outputs": [],
   "source": [
    "# start coding here\n",
    "all_seqs = snakemake.input.all_seqs\n",
    "output_dir = snakemake.output[0]\n",
    "log = snakemake.log[0]"
   ]
  },
  {
   "cell_type": "code",
   "execution_count": 79,
   "metadata": {},
   "outputs": [],
   "source": [
    "import os\n",
    "import time\n",
    "\n",
    "\n",
    "from Bio import SeqIO\n",
    "\n",
    "def _save_cluster(output_dir, clusterID, records):\n",
    "    \"\"\"\n",
    "    Save cluster sequence records as follows:\n",
    "        if the ClusterID is 1mai_N, the records will be saved to output_dir/1m/1mai_N.fasta\n",
    "    \"\"\"\n",
    "    filename = os.path.join(output_dir, clusterID[0:2], f\"{clusterID}.fasta\")\n",
    "    \n",
    "    # ensure this directory exists\n",
    "    os.makedirs(os.path.dirname(filename), exist_ok=True)\n",
    "\n",
    "    # save records\n",
    "    with open(filename, \"w\") as f:\n",
    "        SeqIO.write(sequences=records, handle=f, format=\"fasta\")\n",
    "    \n",
    "\n",
    "def main(all_seqs, output_dir, log):\n",
    "    \"\"\"\n",
    "    Based on MMseqs2 format, clusters look like this:\n",
    "    \n",
    "    >1mai_N\n",
    "    >1mai_N\n",
    "    XXXXXXX\n",
    "    >1nnz_A\n",
    "    XXXXXXX\n",
    "    \n",
    "        Saving to indivudual fasta files inclusive of each cluster and without the repeated header.\n",
    "        Each cluster and file is named after mmseqs2 cluster ID (the repeated ID)\n",
    "    \"\"\"\n",
    "    cur_clusterID = \"\"\n",
    "    cluster_records = list()\n",
    "    cluster_count = 0\n",
    "    \n",
    "    with open(all_seqs, \"r\") as f:\n",
    "        for i,record in  enumerate(SeqIO.parse(f, \"fasta\")):\n",
    "            if len(record) == 0: # the cluster head will be record of zero length\n",
    "                \n",
    "                # save previous cluster\n",
    "                # this does not trigger on the first cluster only\n",
    "                if cur_clusterID:\n",
    "                    _save_cluster(output_dir, cur_clusterID, cluster_records)\n",
    "                \n",
    "                # reset for next cluster\n",
    "                cur_clusterID = record.description\n",
    "                cluster_records = list()\n",
    "                \n",
    "                # keep count of clusters\n",
    "                cluster_count += 1\n",
    "                \n",
    "                continue\n",
    "            else:\n",
    "                cluster_records.append(record)\n",
    "                \n",
    "    with open(log, \"w\") as f:\n",
    "        f.write(f\"Extracted a total of {cluster_count} clusters\")\n",
    "                \n",
    "    "
   ]
  },
  {
   "cell_type": "code",
   "execution_count": 80,
   "metadata": {},
   "outputs": [],
   "source": [
    "%%timeit -r 1  -n 1\n",
    "main(all_seqs=all_seqs,\n",
    "     output_dir=output_dir,\n",
    "     log=log)\n",
    "\n",
    "# CLEANUP # \n",
    "# delete unneeded all_seqs fasta file to save space\n",
    "os.remove(all_seqs)"
   ]
  },
  {
   "cell_type": "code",
   "execution_count": null,
   "metadata": {},
   "outputs": [],
   "source": []
  }
 ],
 "metadata": {
  "kernelspec": {
   "display_name": "Python 3",
   "language": "python",
   "name": "python3"
  },
  "language_info": {
   "codemirror_mode": {
    "name": "ipython",
    "version": 3
   },
   "file_extension": ".py",
   "mimetype": "text/x-python",
   "name": "python",
   "nbconvert_exporter": "python",
   "pygments_lexer": "ipython3",
   "version": "3.6.10"
  }
 },
 "nbformat": 4,
 "nbformat_minor": 4
}
