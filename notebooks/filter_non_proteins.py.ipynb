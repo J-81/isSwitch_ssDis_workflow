{
 "cells": [
  {
   "cell_type": "code",
   "execution_count": 5,
   "metadata": {},
   "outputs": [],
   "source": [
    "!conda list # solely to document conda enviornment"
   ]
  },
  {
   "cell_type": "code",
   "execution_count": 6,
   "metadata": {},
   "outputs": [],
   "source": [
    "# start coding here\n",
    "pdb_seqs = snakemake.input[0]\n",
    "protein_seqs = snakemake.output.protein_seqs\n",
    "log = snakemake.log[0]"
   ]
  },
  {
   "cell_type": "code",
   "execution_count": 7,
   "metadata": {},
   "outputs": [],
   "source": [
    "import time\n",
    "\n",
    "from Bio import SeqIO\n",
    "\n",
    "def main(all_seqs_inpath, protein_seqs_outpath, log):\n",
    "    protein_record_count = 0\n",
    "    nonprotein_record_count = 0\n",
    "    # parse pdb file, record by record\n",
    "    with open(protein_seqs_outpath, \"w\") as out_f:\n",
    "        with open(all_seqs_inpath, \"r\") as in_f:\n",
    "            records = SeqIO.parse(in_f, \"fasta\")\n",
    "            for i, record in enumerate(records):\n",
    "                #print(record.description.split())\n",
    "                pdbID, molecule, length, (*name) = record.description.split() \n",
    "                #print(f\"Parsing {pdbID} record number {i} {' '*9}\", end=\"\\r\")\n",
    "                #time.sleep(0.009) # solely to fix a wierd issue with the above printout statement\n",
    "                # a protein record\n",
    "                if molecule == \"mol:protein\":\n",
    "                    SeqIO.write(record, out_f, \"fasta\")\n",
    "                    protein_record_count += 1\n",
    "                # not a protein record\n",
    "                else:\n",
    "                    nonprotein_record_count += 1\n",
    "                    #print(f\"Dropping {pdbID}, not a protein\")\n",
    "        \n",
    "    # print a quick summary\n",
    "    with open(log, \"w\") as f:\n",
    "        f.write(\n",
    "            f\"Removed {nonprotein_record_count} non-protein records\\n\"\n",
    "            f\"Retained {protein_record_count} protein records\\n\"\n",
    "            f\"Parsed a total of {i+1} records\\n\"\n",
    "        )\n",
    "            "
   ]
  },
  {
   "cell_type": "code",
   "execution_count": 8,
   "metadata": {
    "scrolled": true
   },
   "outputs": [],
   "source": [
    "%%timeit -r 1 -n 1\n",
    "# timed on toshiba pc\n",
    "main(all_seqs_inpath=pdb_seqs,\n",
    "     protein_seqs_outpath=protein_seqs,\n",
    "    log=log)"
   ]
  },
  {
   "cell_type": "code",
   "execution_count": null,
   "metadata": {},
   "outputs": [],
   "source": []
  }
 ],
 "metadata": {
  "kernelspec": {
   "display_name": "Python 3",
   "language": "python",
   "name": "python3"
  },
  "language_info": {
   "codemirror_mode": {
    "name": "ipython",
    "version": 3
   },
   "file_extension": ".py",
   "mimetype": "text/x-python",
   "name": "python",
   "nbconvert_exporter": "python",
   "pygments_lexer": "ipython3",
   "version": "3.6.10"
  }
 },
 "nbformat": 4,
 "nbformat_minor": 4
}
