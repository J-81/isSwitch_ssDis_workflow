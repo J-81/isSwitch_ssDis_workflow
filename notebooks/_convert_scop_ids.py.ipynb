{
 "cells": [
  {
   "cell_type": "markdown",
   "metadata": {},
   "outputs": [],
   "source": [
    "## Notes on Parsing:\n",
    "- cl - class, cf - fold, sf - superfamily, fa - family, dm - domain, px - protein"
   ]
  },
  {
   "cell_type": "code",
   "execution_count": 4,
   "metadata": {},
   "outputs": [],
   "source": [
    "# start coding here\n",
    "scopFile = snakemake.input[0]\n",
    "outFile = snakemake.output[0]"
   ]
  },
  {
   "cell_type": "code",
   "execution_count": 6,
   "metadata": {},
   "outputs": [],
   "source": [
    "def _convert_to_rcsb_style(parsed_list):\n",
    "    \"\"\" Convert to pdb_seqres.txt style \n",
    "    e.g.\n",
    "        '1yj1A:1-71' -> 1yj1_A\n",
    "    \n",
    "    \"\"\"\n",
    "    parsed_list = [item.split(\":\")[0] for item in parsed_list]\n",
    "    parsed_list = [f\"{''.join(list(chars)[0:4])}_{''.join(list(chars)[4:])}\" for chars in parsed_list]\n",
    "    return parsed_list\n",
    "\n",
    "def main(scopFile):\n",
    "    scopPdb5IDs = list()\n",
    "\n",
    "    with open(scopFile, \"r\") as f:\n",
    "        for line in f.readlines():\n",
    "            #print(line)\n",
    "            if line[0] != \"#\": # ignore comments\n",
    "                words = line.split()\n",
    "                #print(words)\n",
    "                scopID, hier,hier_str, scopOLD, *scopNEW  = words\n",
    "                scopNEW = \"\".join(scopNEW)\n",
    "\n",
    "                # only use lines describing protein hierarchy level\n",
    "                if hier == \"px\":\n",
    "                    scopPdb5IDs.append(scopNEW)\n",
    "    \n",
    "    # convert to pdb_seqres style\n",
    "    scopPdb5IDs = _convert_to_rcsb_style(scopPdb5IDs)\n",
    "    \n",
    "    return scopPdb5IDs\n"
   ]
  },
  {
   "cell_type": "code",
   "execution_count": 8,
   "metadata": {},
   "outputs": [],
   "source": [
    "%%timeit -n 1 -r 1\n",
    "\n",
    "# run main method and save results\n",
    "import json\n",
    "\n",
    "results = main(scopFile)\n",
    "with open(outFile, \"w\") as f:\n",
    "    json.dump(results, f)"
   ]
  },
  {
   "cell_type": "code",
   "execution_count": null,
   "metadata": {},
   "outputs": [],
   "source": []
  }
 ],
 "metadata": {
  "kernelspec": {
   "display_name": "Python 3",
   "language": "python",
   "name": "python3"
  },
  "language_info": {
   "codemirror_mode": {
    "name": "ipython",
    "version": 3
   },
   "file_extension": ".py",
   "mimetype": "text/x-python",
   "name": "python",
   "nbconvert_exporter": "python",
   "pygments_lexer": "ipython3",
   "version": "3.6.10"
  }
 },
 "nbformat": 4,
 "nbformat_minor": 4
}
