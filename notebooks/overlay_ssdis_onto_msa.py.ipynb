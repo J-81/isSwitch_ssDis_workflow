{
 "cells": [
  {
   "cell_type": "code",
   "execution_count": 2,
   "metadata": {},
   "outputs": [],
   "source": [
    "# start coding here\n",
    "i_msa = snakemake.input.cluster_msa\n",
    "i_ssdis = snakemake.input.reformatted_ss_dis\n",
    "o_msa = snakemake.output.ssdis_overlay"
   ]
  },
  {
   "cell_type": "code",
   "execution_count": 3,
   "metadata": {},
   "outputs": [],
   "source": [
    "from Bio import SeqIO, AlignIO, Seq\n",
    "import json \n",
    "def _fetch_ssdis_info(aligned_seq, ssdis, ):\n",
    "    \"\"\" parses ID, assumes xxxx_X format where upper and lowercases are as shown \"\"\"\n",
    "    _id = f\"{aligned_seq.id[0:4].upper()}{aligned_seq.id[5].upper()}\"\n",
    "    try:\n",
    "        unaligned_ssdis = ssdis[_id]\n",
    "    except KeyError:\n",
    "        #print(f\"MISSING {_id}\") ## DEBUG\n",
    "        return _, \"?\"*len(aligned_seq) # this is handled during convert_to_secsctruct_alignment to prevent indel reinsertion\n",
    "    return unaligned_ssdis\n",
    "\n",
    "def _insert_indels(unaligned_secondary, indel_indices):\n",
    "    unaligned_secondary = list(unaligned_secondary)\n",
    "    for indel_loc in indel_indices:\n",
    "        unaligned_secondary.insert(indel_loc, \"-\")\n",
    "    aligned_secondary = \"\".join(unaligned_secondary)\n",
    "    return aligned_secondary\n",
    "\n",
    "\n",
    "def covert_to_secstruct_alignment(primary_msa, output_msa, ss_dis):\n",
    "    finished_seqs = list()\n",
    "    for aligned_seq in AlignIO.read(primary_msa, format=\"fasta\"):\n",
    "        # find where indel are located in aligned_sequence\n",
    "        indel_indices = [i for i,v in enumerate(aligned_seq) if v == \"-\"]\n",
    "\n",
    "        # get unaligned_secondary sequence\n",
    "        _, unaligned_secondary = _fetch_ssdis_info(aligned_seq, ss_dis)\n",
    "\n",
    "        # insert indel into unaligned secondary sequence to create aligned sequence\n",
    "        if \"?\" in unaligned_secondary:\n",
    "            raise ValueError(f\"Missing SSDIS: {primary_msa}\")\n",
    "            #print(f\"Missing {aligned_seq.id} in {i_ssdis}\")\n",
    "            aligned_secondary = unaligned_secondary\n",
    "        else:\n",
    "            aligned_secondary = _insert_indels(unaligned_secondary, indel_indices)\n",
    "\n",
    "        # replace primary with secondary sequence\n",
    "        aligned_seq.seq = Seq.Seq(aligned_secondary)\n",
    "\n",
    "        finished_seqs.append(aligned_seq)\n",
    "\n",
    "    # write to file\n",
    "    with open(output_msa, \"w\") as f:\n",
    "        SeqIO.write(finished_seqs, handle=f, format=\"fasta\")\n"
   ]
  },
  {
   "cell_type": "code",
   "execution_count": 4,
   "metadata": {},
   "outputs": [],
   "source": [
    "%%timeit -n 1 -r 1\n",
    "# run the function\n",
    "### Load ssdis once # actually pretty fast json load\n",
    "import json\n",
    "with open(i_ssdis, \"r\") as f:\n",
    "    ssdis = json.load(f)\n",
    "\n",
    "\n",
    "covert_to_secstruct_alignment(primary_msa=i_msa, \n",
    "                              output_msa=o_msa,\n",
    "                              ss_dis=ssdis)"
   ]
  },
  {
   "cell_type": "code",
   "execution_count": 6,
   "metadata": {},
   "outputs": [],
   "source": [
    "!tail {o_msa}"
   ]
  },
  {
   "cell_type": "code",
   "execution_count": null,
   "metadata": {},
   "outputs": [],
   "source": []
  }
 ],
 "metadata": {
  "kernelspec": {
   "display_name": "Python 3",
   "language": "python",
   "name": "python3"
  },
  "language_info": {
   "codemirror_mode": {
    "name": "ipython",
    "version": 3
   },
   "file_extension": ".py",
   "mimetype": "text/x-python",
   "name": "python",
   "nbconvert_exporter": "python",
   "pygments_lexer": "ipython3",
   "version": "3.6.10"
  }
 },
 "nbformat": 4,
 "nbformat_minor": 4
}
